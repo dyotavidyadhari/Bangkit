{
 "cells": [
  {
   "cell_type": "markdown",
   "metadata": {
    "colab_type": "text",
    "id": "mw2VBrBcgvGa"
   },
   "source": [
    "In this exercise you'll try to build a neural network that predicts the price of a house according to a simple formula.\n",
    "\n",
    "So, imagine if house pricing was as easy as a house costs 50k + 50k per bedroom, so that a 1 bedroom house costs 100k, a 2 bedroom house costs 150k etc.\n",
    "\n",
    "How would you create a neural network that learns this relationship so that it would predict a 7 bedroom house as costing close to 400k etc.\n",
    "\n",
    "Hint: Your network might work better if you scale the house price down. You don't have to give the answer 400...it might be better to create something that predicts the number 4, and then your answer is in the 'hundreds of thousands' etc."
   ]
  },
  {
   "cell_type": "code",
   "execution_count": 1,
   "metadata": {},
   "outputs": [],
   "source": [
    "import tensorflow as tf\n",
    "import numpy as np\n",
    "from tensorflow import keras"
   ]
  },
  {
   "cell_type": "code",
   "execution_count": 6,
   "metadata": {
    "colab": {},
    "colab_type": "code",
    "id": "PUNO2E6SeURH"
   },
   "outputs": [],
   "source": [
    "# GRADED FUNCTION: house_model\n",
    "def house_model(y_new):\n",
    "    xs = np.array([1, 2, 3, 4, 10, 20]) #number of bedroom\n",
    "    ys = np.array([1, 1.5, 2, 2.5, 5.5, 10.5])\n",
    "    model = keras.Sequential([keras.layers.Dense(units=1, input_shape=[1])])\n",
    "    \n",
    "    model.compile(optimizer='sgd', loss='mean_squared_error')\n",
    "    model.fit(xs, ys, epochs=400)\n",
    "    return model.predict(y_new)[0]"
   ]
  },
  {
   "cell_type": "code",
   "execution_count": 7,
   "metadata": {},
   "outputs": [
    {
     "name": "stdout",
     "output_type": "stream",
     "text": [
      "Epoch 1/400\n",
      "6/6 [==============================] - 3s 530ms/sample - loss: 3.7638\n",
      "Epoch 2/400\n",
      "6/6 [==============================] - 0s 264us/sample - loss: 2.3150\n",
      "Epoch 3/400\n",
      "6/6 [==============================] - 0s 184us/sample - loss: 1.4400\n",
      "Epoch 4/400\n",
      "6/6 [==============================] - 0s 169us/sample - loss: 0.9112\n",
      "Epoch 5/400\n",
      "6/6 [==============================] - 0s 188us/sample - loss: 0.5913\n",
      "Epoch 6/400\n",
      "6/6 [==============================] - 0s 178us/sample - loss: 0.3974\n",
      "Epoch 7/400\n",
      "6/6 [==============================] - 0s 200us/sample - loss: 0.2796\n",
      "Epoch 8/400\n",
      "6/6 [==============================] - 0s 200us/sample - loss: 0.2078\n",
      "Epoch 9/400\n",
      //dst      
      "6/6 [==============================] - 0s 163us/sample - loss: 4.6662e-05\n",
      "Epoch 396/400\n",
      "6/6 [==============================] - 0s 153us/sample - loss: 4.5745e-05\n",
      "Epoch 397/400\n",
      "6/6 [==============================] - 0s 151us/sample - loss: 4.4845e-05\n",
      "Epoch 398/400\n",
      "6/6 [==============================] - 0s 160us/sample - loss: 4.3964e-05\n",
      "Epoch 399/400\n",
      "6/6 [==============================] - 0s 160us/sample - loss: 4.3100e-05\n",
      "Epoch 400/400\n",
      "6/6 [==============================] - 0s 163us/sample - loss: 4.2254e-05\n",
      "[3.99572]\n"
     ]
    }
   ],
   "source": [
    "prediction = house_model([7.0])\n",
    "print(prediction)"
   ]
  },
  {
   "cell_type": "code",
   "execution_count": 4,
   "metadata": {},
   "outputs": [],
   "source": [
    "# Now click the 'Submit Assignment' button above.\n",
    "# Once that is complete, please run the following two cells to save your work and close the notebook"
   ]
  },
  {
   "cell_type": "code",
   "execution_count": 8,
   "metadata": {},
   "outputs": [
    {
     "data": {
      "application/javascript": [
       "<!-- Save the notebook -->\n",
       "IPython.notebook.save_checkpoint();\n"
      ],
      "text/plain": [
       "<IPython.core.display.Javascript object>"
      ]
     },
     "metadata": {},
     "output_type": "display_data"
    }
   ],
   "source": [
    "%%javascript\n",
    "<!-- Save the notebook -->\n",
    "IPython.notebook.save_checkpoint();"
   ]
  },
  {
   "cell_type": "code",
   "execution_count": null,
   "metadata": {},
   "outputs": [
    {
     "data": {
      "application/javascript": [
       "IPython.notebook.session.delete();\n",
       "window.onbeforeunload = null\n",
       "setTimeout(function() { window.close(); }, 1000);\n"
      ],
      "text/plain": [
       "<IPython.core.display.Javascript object>"
      ]
     },
     "metadata": {},
     "output_type": "display_data"
    }
   ],
   "source": [
    "%%javascript\n",
    "IPython.notebook.session.delete();\n",
    "window.onbeforeunload = null\n",
    "setTimeout(function() { window.close(); }, 1000);"
   ]
  }
 ],
 "metadata": {
  "coursera": {
   "course_slug": "introduction-tensorflow",
   "graded_item_id": "jRjw8",
   "launcher_item_id": "YoQKl"
  },
  "kernelspec": {
   "display_name": "Python 3",
   "language": "python",
   "name": "python3"
  },
  "language_info": {
   "codemirror_mode": {
    "name": "ipython",
    "version": 3
   },
   "file_extension": ".py",
   "mimetype": "text/x-python",
   "name": "python",
   "nbconvert_exporter": "python",
   "pygments_lexer": "ipython3",
   "version": "3.6.8"
  }
 },
 "nbformat": 4,
 "nbformat_minor": 2
}
