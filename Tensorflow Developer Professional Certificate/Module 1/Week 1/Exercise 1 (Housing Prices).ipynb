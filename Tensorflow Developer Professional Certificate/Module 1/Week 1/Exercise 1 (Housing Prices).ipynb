import tensorflow as tf
import numpy as np
from tensorflow import keras

# GRADED FUNCTION: house_model
def house_model(y_new):
    xs = np.array([1, 2, 3, 4, 10, 20]) #number of bedroom
    ys = np.array([1, 1.5, 2, 2.5, 5.5, 10.5])
    model = keras.Sequential([keras.layers.Dense(units=1, input_shape=[1])])
    
    model.compile(optimizer='sgd', loss='mean_squared_error')
    model.fit(xs, ys, epochs=400)
    return model.predict(y_new)[0]
